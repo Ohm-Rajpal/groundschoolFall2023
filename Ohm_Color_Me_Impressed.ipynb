{
 "cells": [
  {
   "cell_type": "code",
   "execution_count": 72,
   "id": "initial_id",
   "metadata": {
    "collapsed": true,
    "ExecuteTime": {
     "end_time": "2023-10-19T06:02:42.324588200Z",
     "start_time": "2023-10-19T06:02:42.293342900Z"
    }
   },
   "outputs": [],
   "source": [
    "import cv2\n",
    "import numpy as np\n",
    "import matplotlib.pyplot as plt\n",
    "from PIL import Image\n",
    "from ImageDisplayer import show_img_custom\n",
    "import webcolors"
   ]
  },
  {
   "cell_type": "code",
   "execution_count": 5,
   "outputs": [],
   "source": [
    "brown_image_path = './test_images/brown.png'\n",
    "img = cv2.imread(brown_image_path)\n",
    "\n",
    "test = np.array(list(img))"
   ],
   "metadata": {
    "collapsed": false,
    "ExecuteTime": {
     "end_time": "2023-10-19T04:55:53.972975600Z",
     "start_time": "2023-10-19T04:55:53.933378200Z"
    }
   },
   "id": "ce2fbd0d9fc1dc10"
  },
  {
   "cell_type": "code",
   "execution_count": 17,
   "outputs": [],
   "source": [
    "\n",
    "n = test.shape[0]\n",
    "m = test.shape[1]\n",
    "\n",
    "cnt = {}\n",
    "for i in range(n):\n",
    "    for j in range(m):\n",
    "        cur = (test[i][j][0], test[i][j][1], test[i][j][2])\n",
    "        if cur not in cnt:\n",
    "            cnt[cur] = 0\n",
    "        cnt[cur] += 1\n",
    "    \n",
    "sorted = []    \n",
    "for i in cnt.keys():\n",
    "    sorted.append((cnt[i], i))"
   ],
   "metadata": {
    "collapsed": false,
    "ExecuteTime": {
     "end_time": "2023-10-19T04:59:45.530270900Z",
     "start_time": "2023-10-19T04:59:45.295003500Z"
    }
   },
   "id": "fb9dea30ad12a0a7"
  },
  {
   "cell_type": "code",
   "execution_count": 21,
   "outputs": [
    {
     "name": "stdout",
     "output_type": "stream",
     "text": [
      "(37, 50, 56) (39, 50, 55)\n"
     ]
    }
   ],
   "source": [
    "sorted.sort()\n",
    "print(sorted[0][1], sorted[1][1])"
   ],
   "metadata": {
    "collapsed": false,
    "ExecuteTime": {
     "end_time": "2023-10-19T05:00:56.461336100Z",
     "start_time": "2023-10-19T05:00:56.414295Z"
    }
   },
   "id": "2367b51c94062ba3"
  },
  {
   "cell_type": "code",
   "execution_count": 58,
   "outputs": [],
   "source": [
    "def find_main_objects_grayscale(image_path, area_threshold):\n",
    "    \n",
    "    image = cv2.imread(image_path)\n",
    "    \n",
    "    gray = cv2.cvtColor(image, cv2.COLOR_BGR2GRAY)\n",
    "\n",
    "    _, binary_image = cv2.threshold(gray, 127, 255, cv2.THRESH_BINARY)\n",
    "\n",
    "    contours, _ = cv2.findContours(binary_image, cv2.RETR_EXTERNAL, cv2.CHAIN_APPROX_SIMPLE)\n",
    "\n",
    "    main_object_contours = [cnt for cnt in contours if cv2.contourArea(cnt) > area_threshold]\n",
    "\n",
    "    result_image = image.copy()\n",
    "    cv2.drawContours(result_image, main_object_contours, -1, (0, 255, 0), 2)\n",
    "\n",
    "    # Display the result image\n",
    "    show_img_custom(result_image, 'Main Objects (Grayscale)')\n",
    "\n",
    "    return main_object_contours\n"
   ],
   "metadata": {
    "collapsed": false,
    "ExecuteTime": {
     "end_time": "2023-10-19T05:39:04.907652400Z",
     "start_time": "2023-10-19T05:39:04.839746Z"
    }
   },
   "id": "84974975b02b29fa"
  },
  {
   "cell_type": "code",
   "execution_count": 59,
   "outputs": [
    {
     "name": "stdout",
     "output_type": "stream",
     "text": [
      "Number of main objects found: 1\n"
     ]
    }
   ],
   "source": [
    "# Example usage:\n",
    "# run_way_path = './test_images/runway_50.png'\n",
    "# maryland_path = './test_images/maryland_test_50.png'\n",
    "brown_image_path = './test_images/brown.png'\n",
    "\n",
    "brown_img = cv2.imread(brown_image_path)\n",
    "# maryland_img = cv2.imread(maryland_path)\n",
    "# runway_img = cv2.imread(run_way_path)\n",
    "\n",
    "n = np.array(brown_img).shape[0]\n",
    "m = np.array(brown_img).shape[1]\n",
    "\n",
    "area_threshold = n * m * 0.01 # Adjust this threshold according to your requirements\n",
    "\n",
    "main_objects_grayscale = find_main_objects_grayscale(brown_image_path, area_threshold)\n",
    "print(f\"Number of main objects found: {len(main_objects_grayscale)}\")"
   ],
   "metadata": {
    "collapsed": false,
    "ExecuteTime": {
     "end_time": "2023-10-19T05:39:07.746441100Z",
     "start_time": "2023-10-19T05:39:05.528440500Z"
    }
   },
   "id": "88415484e12932a2"
  },
  {
   "cell_type": "code",
   "execution_count": 65,
   "outputs": [],
   "source": [
    "import cv2\n",
    "import numpy as np\n",
    "\n",
    "def get_contour_values_hsv(image_path, area_threshold=.001):\n",
    "    # Read the image\n",
    "    image = cv2.imread(image_path)\n",
    "\n",
    "    # Convert the image to HSV\n",
    "    hsv = cv2.cvtColor(image, cv2.COLOR_BGR2HSV)\n",
    "\n",
    "    # Define a lower and upper threshold for the color range you are interested in\n",
    "    lower_threshold = np.array([0, 0, 0])  # Example: Black\n",
    "    upper_threshold = np.array([179, 255, 50])  # Example: Yellow\n",
    "\n",
    "    # Create a mask using the inRange function\n",
    "    mask = cv2.inRange(hsv, lower_threshold, upper_threshold)\n",
    "\n",
    "    # Find contours in the mask\n",
    "    contours, _ = cv2.findContours(mask, cv2.RETR_EXTERNAL, cv2.CHAIN_APPROX_SIMPLE)\n",
    "\n",
    "    # Filter contours based on area threshold\n",
    "    main_object_contours = [cnt for cnt in contours if cv2.contourArea(cnt) > area_threshold]\n",
    "\n",
    "    return main_object_contours"
   ],
   "metadata": {
    "collapsed": false,
    "ExecuteTime": {
     "end_time": "2023-10-19T05:50:34.980592600Z",
     "start_time": "2023-10-19T05:50:34.923318Z"
    }
   },
   "id": "239c163e22dbad0a"
  },
  {
   "cell_type": "code",
   "execution_count": 66,
   "outputs": [],
   "source": [
    "def find_common_colors_hsv(image, contours, num_colors=2):\n",
    "    # Create a mask to extract the region of interest (ROI) within each contour\n",
    "    mask = np.zeros_like(image)\n",
    "    cv2.drawContours(mask, contours, -1, (255, 255, 255), thickness=cv2.FILLED)\n",
    "\n",
    "    # Convert the image to HSV\n",
    "    hsv_image = cv2.cvtColor(image, cv2.COLOR_BGR2HSV)\n",
    "\n",
    "    # Iterate over each contour and extract the color information\n",
    "    colors_hsv = []\n",
    "    for contour in contours:\n",
    "        # Extract the ROI using the mask\n",
    "        roi = cv2.bitwise_and(hsv_image, mask)\n",
    "        \n",
    "        # Mask the image to keep only the pixels within the contour\n",
    "        contour_mask = np.zeros_like(hsv_image)\n",
    "        cv2.drawContours(contour_mask, [contour], -1, (255, 255, 255), thickness=cv2.FILLED)\n",
    "        roi = cv2.bitwise_and(roi, contour_mask)\n",
    "\n",
    "        # Calculate the average color within the contour\n",
    "        average_color_hsv = np.mean(roi, axis=(0, 1))\n",
    "        colors_hsv.append(average_color_hsv)\n",
    "\n",
    "    # Find the two most common colors in HSV format\n",
    "    unique_colors_hsv, counts = np.unique(colors_hsv, axis=0, return_counts=True)\n",
    "    sorted_indices = np.argsort(-counts)\n",
    "    most_common_colors_hsv = unique_colors_hsv[sorted_indices[:num_colors]]\n",
    "\n",
    "    return most_common_colors_hsv"
   ],
   "metadata": {
    "collapsed": false,
    "ExecuteTime": {
     "end_time": "2023-10-19T05:50:44.379227100Z",
     "start_time": "2023-10-19T05:50:44.348960300Z"
    }
   },
   "id": "b46ac7b98f097107"
  },
  {
   "cell_type": "code",
   "execution_count": 67,
   "outputs": [
    {
     "data": {
      "text/plain": "array([], dtype=float64)"
     },
     "execution_count": 67,
     "metadata": {},
     "output_type": "execute_result"
    }
   ],
   "source": [
    "image_path = brown_image_path\n",
    "area_threshold = .001  # Adjust this threshold according to your requirements\n",
    "\n",
    "contour_values_hsv = get_contour_values_hsv(image_path, area_threshold)\n",
    "\n",
    "find_common_colors_hsv(brown_img, contour_values_hsv, 2)"
   ],
   "metadata": {
    "collapsed": false,
    "ExecuteTime": {
     "end_time": "2023-10-19T05:51:14.007017Z",
     "start_time": "2023-10-19T05:51:13.970323100Z"
    }
   },
   "id": "b5c716ffba00f149"
  },
  {
   "cell_type": "code",
   "execution_count": 77,
   "outputs": [
    {
     "name": "stdout",
     "output_type": "stream",
     "text": [
      "Major Colors:\n",
      "Hex Code: #7bb8e5, Color Name: Unknown\n"
     ]
    }
   ],
   "source": [
    "def rgb_to_hex(rgb):\n",
    "    return \"#{:02x}{:02x}{:02x}\".format(rgb[0], rgb[1], rgb[2])\n",
    "\n",
    "def hex_to_color_name(hex_code):\n",
    "    try:\n",
    "        color_name = webcolors.hex_to_name(hex_code)\n",
    "        return color_name\n",
    "    except ValueError:\n",
    "        return \"Unknown\"\n",
    "\n",
    "def identify_major_colors(image_path, top_n=2):\n",
    "    # Load the image using Pillow\n",
    "    image = Image.open(image_path)\n",
    "\n",
    "    # Convert the image to a NumPy array\n",
    "    image_np = np.array(image)\n",
    "\n",
    "    # Convert the image to RGB (if it's in a different mode)\n",
    "    image_rgb = cv2.cvtColor(image_np, cv2.COLOR_BGR2RGB)\n",
    "\n",
    "    # Define a mask to exclude the background\n",
    "    # This mask assumes that the background is a solid color (you may need to adjust it)\n",
    "    background_mask = (image_rgb[:, :, 0] != 255) | (image_rgb[:, :, 1] != 255) | (image_rgb[:, :, 2] != 255)\n",
    "\n",
    "    # Apply the mask to the image\n",
    "    image_rgb_no_bg = image_rgb[background_mask]\n",
    "\n",
    "    # Identify unique colors in the sign and symbol (excluding background)\n",
    "    unique_colors, counts = np.unique(image_rgb_no_bg, axis=0, return_counts=True)\n",
    "\n",
    "    # Sort colors based on their counts (areas)\n",
    "    sorted_indices = np.argsort(-counts)\n",
    "    sorted_colors = unique_colors[sorted_indices]\n",
    "\n",
    "    # Take the top N colors\n",
    "    top_colors = sorted_colors[:top_n]\n",
    "\n",
    "    return top_colors\n",
    "\n",
    "# Replace 'your_image_path.jpg' with the path to your image file\n",
    "image_path = './test_images/colorer.png'\n",
    "result = identify_major_colors(image_path)\n",
    "\n",
    "print(\"Major Colors:\")\n",
    "for color in result:\n",
    "    hex_color = rgb_to_hex(color)\n",
    "    color_name = hex_to_color_name(hex_color)\n",
    "    print(f\"Hex Code: {hex_color}, Color Name: {color_name}\")\n"
   ],
   "metadata": {
    "collapsed": false,
    "ExecuteTime": {
     "end_time": "2023-10-19T06:08:51.500328100Z",
     "start_time": "2023-10-19T06:08:48.538157800Z"
    }
   },
   "id": "82e6f3a0385f75a7"
  },
  {
   "cell_type": "code",
   "execution_count": null,
   "outputs": [],
   "source": [],
   "metadata": {
    "collapsed": false
   },
   "id": "aebf0eb975ea96f2"
  }
 ],
 "metadata": {
  "kernelspec": {
   "display_name": "Python 3",
   "language": "python",
   "name": "python3"
  },
  "language_info": {
   "codemirror_mode": {
    "name": "ipython",
    "version": 2
   },
   "file_extension": ".py",
   "mimetype": "text/x-python",
   "name": "python",
   "nbconvert_exporter": "python",
   "pygments_lexer": "ipython2",
   "version": "2.7.6"
  }
 },
 "nbformat": 4,
 "nbformat_minor": 5
}
